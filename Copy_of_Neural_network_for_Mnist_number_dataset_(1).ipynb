{
  "cells": [
    {
      "cell_type": "markdown",
      "metadata": {
        "id": "view-in-github",
        "colab_type": "text"
      },
      "source": [
        "<a href=\"https://colab.research.google.com/github/Deshmukhrohit/Machin-Learning/blob/main/Copy_of_Neural_network_for_Mnist_number_dataset_(1).ipynb\" target=\"_parent\"><img src=\"https://colab.research.google.com/assets/colab-badge.svg\" alt=\"Open In Colab\"/></a>"
      ]
    },
    {
      "cell_type": "markdown",
      "metadata": {
        "id": "aK_1LHdwQpF9"
      },
      "source": []
    },
    {
      "cell_type": "markdown",
      "metadata": {
        "id": "view-in-github"
      },
      "source": [
        "<a href=\"https://colab.research.google.com/github/Mustafalw02/Machine-Learning-Lab-Work/blob/master/Neural_network_for_Mnist_number_dataset.ipynb\" target=\"_parent\"><img src=\"https://colab.research.google.com/assets/colab-badge.svg\" alt=\"Open In Colab\"/></a>"
      ]
    },
    {
      "cell_type": "markdown",
      "metadata": {
        "id": "zQvT7bhRzp4e"
      },
      "source": [
        "<h1>Table of Contents<span class=\"tocSkip\"></span></h1>\n",
        "<div class=\"toc\" style=\"margin-top: 1em;\"><ul class=\"toc-item\"><li><span><a href=\"#Loading-the-MNIST-dataset-in-Keras\" data-toc-modified-id=\"Loading-the-MNIST-dataset-in-Keras-1\"><span class=\"toc-item-num\">1&nbsp;&nbsp;</span>Loading the MNIST dataset in Keras</a></span></li><li><span><a href=\"#The-network-architecture\" data-toc-modified-id=\"The-network-architecture-2\"><span class=\"toc-item-num\">2&nbsp;&nbsp;</span>The network architecture</a></span></li><li><span><a href=\"#The-compilation-step\" data-toc-modified-id=\"The-compilation-step-3\"><span class=\"toc-item-num\">3&nbsp;&nbsp;</span>The compilation step</a></span></li><li><span><a href=\"#Preparing-the-image-data\" data-toc-modified-id=\"Preparing-the-image-data-4\"><span class=\"toc-item-num\">4&nbsp;&nbsp;</span>Preparing the image data</a></span></li><li><span><a href=\"#Preparing-the-labels\" data-toc-modified-id=\"Preparing-the-labels-5\"><span class=\"toc-item-num\">5&nbsp;&nbsp;</span>Preparing the labels</a></span></li><li><span><a href=\"#Training-and-Testing\" data-toc-modified-id=\"Training-and-Testing-6\"><span class=\"toc-item-num\">6&nbsp;&nbsp;</span>Training and Testing</a></span></li></ul></div>"
      ]
    },
    {
      "cell_type": "markdown",
      "metadata": {
        "id": "GSee4zKUzp4i"
      },
      "source": [
        "# Loading the MNIST dataset in Keras"
      ]
    },
    {
      "cell_type": "code",
      "execution_count": null,
      "metadata": {
        "id": "6a8IveFHzp4l"
      },
      "outputs": [],
      "source": [
        "from keras.datasets import mnist"
      ]
    },
    {
      "cell_type": "code",
      "execution_count": null,
      "metadata": {
        "colab": {
          "base_uri": "https://localhost:8080/"
        },
        "id": "LQPmnZ8xzp4v",
        "outputId": "0afa6884-663e-4f45-ee10-6c66fa6008ee"
      },
      "outputs": [
        {
          "name": "stdout",
          "output_type": "stream",
          "text": [
            "Downloading data from https://storage.googleapis.com/tensorflow/tf-keras-datasets/mnist.npz\n",
            "11490434/11490434 [==============================] - 0s 0us/step\n"
          ]
        }
      ],
      "source": [
        "(train_images, train_labels), (test_images, test_labels) = mnist.load_data()"
      ]
    },
    {
      "cell_type": "markdown",
      "metadata": {
        "id": "mnZfS9HYzp4z"
      },
      "source": [
        "- The images are encoded as Numpy arrays, and the labels are an array of digits, ranging from 0 to 9."
      ]
    },
    {
      "cell_type": "code",
      "execution_count": null,
      "metadata": {
        "colab": {
          "base_uri": "https://localhost:8080/"
        },
        "id": "VFdoffSmzp41",
        "outputId": "5d05c2f5-4896-4b58-ce9a-cc4d0e1114dc"
      },
      "outputs": [
        {
          "data": {
            "text/plain": [
              "(60000, 28, 28)"
            ]
          },
          "execution_count": 3,
          "metadata": {},
          "output_type": "execute_result"
        }
      ],
      "source": [
        "train_images.shape\n"
      ]
    },
    {
      "cell_type": "code",
      "execution_count": null,
      "metadata": {
        "colab": {
          "base_uri": "https://localhost:8080/"
        },
        "id": "tD65nC-vzp45",
        "outputId": "74e588cd-3d4c-40d7-cf48-1a8158e3bf32"
      },
      "outputs": [
        {
          "data": {
            "text/plain": [
              "60000"
            ]
          },
          "execution_count": 4,
          "metadata": {},
          "output_type": "execute_result"
        }
      ],
      "source": [
        "len(train_labels)"
      ]
    },
    {
      "cell_type": "code",
      "execution_count": null,
      "metadata": {
        "colab": {
          "base_uri": "https://localhost:8080/"
        },
        "id": "IX9LpWNazp4_",
        "outputId": "2a0026ed-f45f-4f07-d90f-014728af80c0"
      },
      "outputs": [
        {
          "data": {
            "text/plain": [
              "array([5, 0, 4, ..., 5, 6, 8], dtype=uint8)"
            ]
          },
          "execution_count": 5,
          "metadata": {},
          "output_type": "execute_result"
        }
      ],
      "source": [
        "train_labels"
      ]
    },
    {
      "cell_type": "code",
      "execution_count": null,
      "metadata": {
        "colab": {
          "base_uri": "https://localhost:8080/"
        },
        "id": "SG0L5p4Dzp5D",
        "outputId": "994660c4-6e8a-40d5-932b-80854d557db7"
      },
      "outputs": [
        {
          "data": {
            "text/plain": [
              "(10000, 28, 28)"
            ]
          },
          "execution_count": 6,
          "metadata": {},
          "output_type": "execute_result"
        }
      ],
      "source": [
        "test_images.shape"
      ]
    },
    {
      "cell_type": "code",
      "execution_count": null,
      "metadata": {
        "colab": {
          "base_uri": "https://localhost:8080/"
        },
        "id": "MimOH_Xnzp5I",
        "outputId": "c9576f5a-5de2-4262-c115-fd7fa56c0dd7"
      },
      "outputs": [
        {
          "data": {
            "text/plain": [
              "10000"
            ]
          },
          "execution_count": 7,
          "metadata": {},
          "output_type": "execute_result"
        }
      ],
      "source": [
        "len(test_labels)"
      ]
    },
    {
      "cell_type": "code",
      "execution_count": null,
      "metadata": {
        "colab": {
          "background_save": true,
          "base_uri": "https://localhost:8080/"
        },
        "id": "8EHR0v0Bzp5M",
        "outputId": "29a35cb4-ad55-4c6a-dfaa-307445bb7b3d"
      },
      "outputs": [
        {
          "data": {
            "text/plain": [
              "array([7, 2, 1, ..., 4, 5, 6], dtype=uint8)"
            ]
          },
          "execution_count": 8,
          "metadata": {},
          "output_type": "execute_result"
        }
      ],
      "source": [
        "test_labels"
      ]
    },
    {
      "cell_type": "markdown",
      "metadata": {
        "id": "s0Tp6nDRzp5R"
      },
      "source": [
        "Let's build the network"
      ]
    },
    {
      "cell_type": "markdown",
      "metadata": {
        "id": "WxbJXg2Czp5T"
      },
      "source": [
        "# The network architecture"
      ]
    },
    {
      "cell_type": "markdown",
      "metadata": {
        "id": "kGCxNrDdzp5U"
      },
      "source": [
        "- The core building block of neural networks is the **layer**, a data-processing module that you can think of as a filter for data.\n",
        "    - Some data goes in, and it comes out in a more useful form.\n",
        "    - Layers extract **representations** (hopefully, meaningful for the data problem at hand) out of the data fed into them.\n",
        "    \n",
        "- Most of deep learning consists of chaining together simple layers that will implement a form of progressive **data distillation**.\n",
        "- A deep learning model is like a sieve for data-processing, made of a succession of increasingly refined data filters--**the layers**."
      ]
    },
    {
      "cell_type": "code",
      "execution_count": null,
      "metadata": {
        "id": "uyUqGjPTzp5V"
      },
      "outputs": [],
      "source": [
        "from keras import models\n",
        "from keras import layers"
      ]
    },
    {
      "cell_type": "code",
      "execution_count": null,
      "metadata": {
        "colab": {
          "base_uri": "https://localhost:8080/"
        },
        "id": "NEVk0S9_zp5a",
        "outputId": "71714673-d2eb-4ce0-d18c-fce1ae24d05a"
      },
      "outputs": [
        {
          "name": "stdout",
          "output_type": "stream",
          "text": [
            "Model: \"sequential\"\n",
            "_________________________________________________________________\n",
            " Layer (type)                Output Shape              Param #   \n",
            "=================================================================\n",
            " dense (Dense)               (None, 32)                25120     \n",
            "                                                                 \n",
            " dense_1 (Dense)             (None, 8)                 264       \n",
            "                                                                 \n",
            " dense_2 (Dense)             (None, 10)                90        \n",
            "                                                                 \n",
            "=================================================================\n",
            "Total params: 25,474\n",
            "Trainable params: 25,474\n",
            "Non-trainable params: 0\n",
            "_________________________________________________________________\n"
          ]
        }
      ],
      "source": [
        "network = models.Sequential()\n",
        "# Dense(32) is a fully-connected layer with 32 hidden units.\n",
        "# in the first layer, you must specify the expected input data shape :\n",
        "# here, 28 X 28=784 -dimensional vectors.\n",
        "network.add(layers.Dense(32, activation='sigmoid', input_shape=(28 * 28, )))\n",
        "network.add(layers.Dense(8, activation='sigmoid'))\n",
        "network.add(layers.Dense(10, activation='softmax'))\n",
        "network.summary()"
      ]
    },
    {
      "cell_type": "code",
      "execution_count": null,
      "metadata": {
        "colab": {
          "background_save": true,
          "base_uri": "https://localhost:8080/"
        },
        "id": "KJSFxZe_e0vC",
        "outputId": "737ae878-c0ed-4ed6-91a1-d0a5a2fcafe5"
      },
      "outputs": [
        {
          "name": "stdout",
          "output_type": "stream",
          "text": [
            "Mounted at /content/drive\n"
          ]
        }
      ],
      "source": [
        "from google.colab import drive\n",
        "drive.mount('/content/drive')"
      ]
    },
    {
      "cell_type": "markdown",
      "metadata": {
        "id": "Af2c2tvKzp5f"
      },
      "source": [
        "- Our network consists of a sequence of two *Dense* layers, which are densely connected (also called *fully connected*) neural layers.\n",
        "- The second (and last) layer is a **10-way** *softmax* layer, which means it will return an array of **10** probability scores. Each score will be the probability that the current digit image belongs to one of our 10 digit classes. "
      ]
    },
    {
      "cell_type": "markdown",
      "metadata": {
        "id": "NHbqJ-rWzp5g"
      },
      "source": [
        "# The compilation step"
      ]
    },
    {
      "cell_type": "markdown",
      "metadata": {
        "id": "1w0ne5wYzp5h"
      },
      "source": [
        "- To make the network ready for training, we need to pick three more things, as part of the **compilation** step:\n",
        " - **A loss function**-- How the network will be able to measure its performance on the training data, and thus how it will be able to steer itself in the right direction.\n",
        " - **An optimizer**--The mechanism through which the network will update itself based on the data it sees and its loss function.\n",
        " - **Metrics to monitor during training and testing**--Here, we will only care about accuracy (the fraction of the images that were correctly classified)."
      ]
    },
    {
      "cell_type": "code",
      "execution_count": null,
      "metadata": {
        "colab": {
          "background_save": true
        },
        "id": "uvSO-q9Ozp5i"
      },
      "outputs": [],
      "source": [
        "network.compile(optimizer='sgd',\n",
        "                loss='categorical_crossentropy',\n",
        "                metrics=['accuracy'])\n",
        "    "
      ]
    },
    {
      "cell_type": "markdown",
      "metadata": {
        "id": "fLHJqTLXzp5o"
      },
      "source": [
        "# Preparing the image data"
      ]
    },
    {
      "cell_type": "markdown",
      "metadata": {
        "id": "ajWKVl1-zp5q"
      },
      "source": [
        "Before training, we will preprocess the data by reshaping it into the shape the network expects and scaling it so that all values are in the $[0-1]$ interval."
      ]
    },
    {
      "cell_type": "code",
      "execution_count": null,
      "metadata": {
        "colab": {
          "background_save": true
        },
        "id": "4vMdz75Wzp5s"
      },
      "outputs": [],
      "source": [
        "train_images = train_images.reshape((60000, 28 * 28))\n",
        "train_images = train_images.astype('float32') / 255."
      ]
    },
    {
      "cell_type": "code",
      "execution_count": null,
      "metadata": {
        "colab": {
          "background_save": true
        },
        "id": "4icW7vDgzp5w"
      },
      "outputs": [],
      "source": [
        "test_images = test_images.reshape((10000, 28 * 28))\n",
        "test_images = test_images.astype('float32') / 255."
      ]
    },
    {
      "cell_type": "markdown",
      "metadata": {
        "id": "0SHD8Vvhzp5z"
      },
      "source": [
        "# Preparing the labels"
      ]
    },
    {
      "cell_type": "markdown",
      "metadata": {
        "id": "JA1YmuF1zp51"
      },
      "source": [
        "We also need to categorically encode the labels."
      ]
    },
    {
      "cell_type": "code",
      "execution_count": null,
      "metadata": {
        "colab": {
          "background_save": true
        },
        "id": "Bh42ABtgzp58"
      },
      "outputs": [],
      "source": [
        "from keras.utils import to_categorical"
      ]
    },
    {
      "cell_type": "code",
      "execution_count": null,
      "metadata": {
        "colab": {
          "background_save": true,
          "base_uri": "https://localhost:8080/"
        },
        "id": "3eCqlapJzp6A",
        "outputId": "2566e451-64d6-4ce9-c889-41ff837823ab"
      },
      "outputs": [
        {
          "data": {
            "text/plain": [
              "array([[0., 0., 0., ..., 0., 0., 0.],\n",
              "       [1., 0., 0., ..., 0., 0., 0.],\n",
              "       [0., 0., 0., ..., 0., 0., 0.],\n",
              "       ...,\n",
              "       [0., 0., 0., ..., 0., 0., 0.],\n",
              "       [0., 0., 0., ..., 0., 0., 0.],\n",
              "       [0., 0., 0., ..., 0., 1., 0.]], dtype=float32)"
            ]
          },
          "execution_count": 23,
          "metadata": {},
          "output_type": "execute_result"
        }
      ],
      "source": [
        "train_labels = to_categorical(train_labels)\n",
        "train_labels"
      ]
    },
    {
      "cell_type": "code",
      "execution_count": null,
      "metadata": {
        "colab": {
          "background_save": true,
          "base_uri": "https://localhost:8080/"
        },
        "id": "wWXDQKNBzp6E",
        "outputId": "224d8c90-4ae2-4b94-ae98-011f06664a62"
      },
      "outputs": [
        {
          "data": {
            "text/plain": [
              "array([[0., 0., 0., ..., 1., 0., 0.],\n",
              "       [0., 0., 1., ..., 0., 0., 0.],\n",
              "       [0., 1., 0., ..., 0., 0., 0.],\n",
              "       ...,\n",
              "       [0., 0., 0., ..., 0., 0., 0.],\n",
              "       [0., 0., 0., ..., 0., 0., 0.],\n",
              "       [0., 0., 0., ..., 0., 0., 0.]], dtype=float32)"
            ]
          },
          "execution_count": 24,
          "metadata": {},
          "output_type": "execute_result"
        }
      ],
      "source": [
        "test_labels = to_categorical(test_labels)\n",
        "test_labels"
      ]
    },
    {
      "cell_type": "markdown",
      "metadata": {
        "id": "csJ7yQVxzp6I"
      },
      "source": [
        "# Training and Testing"
      ]
    },
    {
      "cell_type": "markdown",
      "metadata": {
        "id": "P-KLV-VIzp6K"
      },
      "source": [
        "We are now ready to train the network, which in Keras is done via a call to the network's fit method--we fit the model to its training data:"
      ]
    },
    {
      "cell_type": "code",
      "execution_count": null,
      "metadata": {
        "colab": {
          "background_save": true,
          "base_uri": "https://localhost:8080/"
        },
        "id": "sGWa7zXYzp6O",
        "outputId": "dd2475c3-f7a0-41c0-f932-98ab5c1937fd"
      },
      "outputs": [
        {
          "name": "stdout",
          "output_type": "stream",
          "text": [
            "Epoch 1/60\n",
            "118/118 [==============================] - 5s 4ms/step - loss: 2.3339 - accuracy: 0.1044\n",
            "Epoch 2/60\n",
            "118/118 [==============================] - 0s 4ms/step - loss: 2.3119 - accuracy: 0.1045\n",
            "Epoch 3/60\n",
            "118/118 [==============================] - 0s 3ms/step - loss: 2.3002 - accuracy: 0.1067\n",
            "Epoch 4/60\n",
            "118/118 [==============================] - 0s 3ms/step - loss: 2.2928 - accuracy: 0.1531\n",
            "Epoch 5/60\n",
            "118/118 [==============================] - 0s 3ms/step - loss: 2.2873 - accuracy: 0.1773\n",
            "Epoch 6/60\n",
            "118/118 [==============================] - 0s 3ms/step - loss: 2.2825 - accuracy: 0.1600\n",
            "Epoch 7/60\n",
            "118/118 [==============================] - 0s 4ms/step - loss: 2.2781 - accuracy: 0.1670\n",
            "Epoch 8/60\n",
            "118/118 [==============================] - 0s 3ms/step - loss: 2.2736 - accuracy: 0.1776\n",
            "Epoch 9/60\n",
            "118/118 [==============================] - 0s 4ms/step - loss: 2.2691 - accuracy: 0.1934\n",
            "Epoch 10/60\n",
            "118/118 [==============================] - 0s 3ms/step - loss: 2.2643 - accuracy: 0.2227\n",
            "Epoch 11/60\n",
            "118/118 [==============================] - 0s 3ms/step - loss: 2.2593 - accuracy: 0.2432\n",
            "Epoch 12/60\n",
            "118/118 [==============================] - 0s 3ms/step - loss: 2.2540 - accuracy: 0.2717\n",
            "Epoch 13/60\n",
            "118/118 [==============================] - 0s 3ms/step - loss: 2.2484 - accuracy: 0.2975\n",
            "Epoch 14/60\n",
            "118/118 [==============================] - 0s 4ms/step - loss: 2.2423 - accuracy: 0.3115\n",
            "Epoch 15/60\n",
            "118/118 [==============================] - 0s 4ms/step - loss: 2.2359 - accuracy: 0.3343\n",
            "Epoch 16/60\n",
            "118/118 [==============================] - 0s 4ms/step - loss: 2.2290 - accuracy: 0.3537\n",
            "Epoch 17/60\n",
            "118/118 [==============================] - 0s 4ms/step - loss: 2.2217 - accuracy: 0.3706\n",
            "Epoch 18/60\n",
            "118/118 [==============================] - 0s 3ms/step - loss: 2.2137 - accuracy: 0.3913\n",
            "Epoch 19/60\n",
            "118/118 [==============================] - 0s 3ms/step - loss: 2.2052 - accuracy: 0.4073\n",
            "Epoch 20/60\n",
            "118/118 [==============================] - 0s 3ms/step - loss: 2.1961 - accuracy: 0.4180\n",
            "Epoch 21/60\n",
            "118/118 [==============================] - 0s 3ms/step - loss: 2.1863 - accuracy: 0.4289\n",
            "Epoch 22/60\n",
            "118/118 [==============================] - 0s 3ms/step - loss: 2.1759 - accuracy: 0.4414\n",
            "Epoch 23/60\n",
            "118/118 [==============================] - 0s 3ms/step - loss: 2.1647 - accuracy: 0.4482\n",
            "Epoch 24/60\n",
            "118/118 [==============================] - 0s 4ms/step - loss: 2.1528 - accuracy: 0.4566\n",
            "Epoch 25/60\n",
            "118/118 [==============================] - 1s 5ms/step - loss: 2.1402 - accuracy: 0.4631\n",
            "Epoch 26/60\n",
            "118/118 [==============================] - 1s 5ms/step - loss: 2.1268 - accuracy: 0.4712\n",
            "Epoch 27/60\n",
            "118/118 [==============================] - 1s 5ms/step - loss: 2.1127 - accuracy: 0.4786\n",
            "Epoch 28/60\n",
            "118/118 [==============================] - 1s 5ms/step - loss: 2.0980 - accuracy: 0.4853\n",
            "Epoch 29/60\n",
            "118/118 [==============================] - 1s 5ms/step - loss: 2.0826 - accuracy: 0.4895\n",
            "Epoch 30/60\n",
            "118/118 [==============================] - 1s 5ms/step - loss: 2.0665 - accuracy: 0.4926\n",
            "Epoch 31/60\n",
            "118/118 [==============================] - 0s 4ms/step - loss: 2.0499 - accuracy: 0.4965\n",
            "Epoch 32/60\n",
            "118/118 [==============================] - 0s 3ms/step - loss: 2.0328 - accuracy: 0.5009\n",
            "Epoch 33/60\n",
            "118/118 [==============================] - 0s 3ms/step - loss: 2.0152 - accuracy: 0.5055\n",
            "Epoch 34/60\n",
            "118/118 [==============================] - 0s 3ms/step - loss: 1.9972 - accuracy: 0.5076\n",
            "Epoch 35/60\n",
            "118/118 [==============================] - 0s 3ms/step - loss: 1.9788 - accuracy: 0.5110\n",
            "Epoch 36/60\n",
            "118/118 [==============================] - 0s 3ms/step - loss: 1.9601 - accuracy: 0.5102\n",
            "Epoch 37/60\n",
            "118/118 [==============================] - 0s 3ms/step - loss: 1.9412 - accuracy: 0.5140\n",
            "Epoch 38/60\n",
            "118/118 [==============================] - 0s 3ms/step - loss: 1.9221 - accuracy: 0.5165\n",
            "Epoch 39/60\n",
            "118/118 [==============================] - 0s 4ms/step - loss: 1.9028 - accuracy: 0.5199\n",
            "Epoch 40/60\n",
            "118/118 [==============================] - 0s 3ms/step - loss: 1.8833 - accuracy: 0.5226\n",
            "Epoch 41/60\n",
            "118/118 [==============================] - 0s 3ms/step - loss: 1.8638 - accuracy: 0.5242\n",
            "Epoch 42/60\n",
            "118/118 [==============================] - 0s 4ms/step - loss: 1.8442 - accuracy: 0.5269\n",
            "Epoch 43/60\n",
            "118/118 [==============================] - 0s 4ms/step - loss: 1.8246 - accuracy: 0.5294\n",
            "Epoch 44/60\n",
            "118/118 [==============================] - 0s 4ms/step - loss: 1.8049 - accuracy: 0.5321\n",
            "Epoch 45/60\n",
            "118/118 [==============================] - 0s 3ms/step - loss: 1.7853 - accuracy: 0.5361\n",
            "Epoch 46/60\n",
            "118/118 [==============================] - 0s 4ms/step - loss: 1.7657 - accuracy: 0.5385\n",
            "Epoch 47/60\n",
            "118/118 [==============================] - 0s 4ms/step - loss: 1.7463 - accuracy: 0.5421\n",
            "Epoch 48/60\n",
            "118/118 [==============================] - 1s 6ms/step - loss: 1.7269 - accuracy: 0.5466\n",
            "Epoch 49/60\n",
            "118/118 [==============================] - 0s 3ms/step - loss: 1.7075 - accuracy: 0.5491\n",
            "Epoch 50/60\n",
            "118/118 [==============================] - 1s 6ms/step - loss: 1.6884 - accuracy: 0.5536\n",
            "Epoch 51/60\n",
            "118/118 [==============================] - 0s 4ms/step - loss: 1.6694 - accuracy: 0.5583\n",
            "Epoch 52/60\n",
            "118/118 [==============================] - 0s 4ms/step - loss: 1.6506 - accuracy: 0.5615\n",
            "Epoch 53/60\n",
            "118/118 [==============================] - 0s 4ms/step - loss: 1.6320 - accuracy: 0.5660\n",
            "Epoch 54/60\n",
            "118/118 [==============================] - 1s 5ms/step - loss: 1.6136 - accuracy: 0.5696\n",
            "Epoch 55/60\n",
            "118/118 [==============================] - 1s 5ms/step - loss: 1.5954 - accuracy: 0.5720\n",
            "Epoch 56/60\n",
            "118/118 [==============================] - 1s 5ms/step - loss: 1.5775 - accuracy: 0.5757\n",
            "Epoch 57/60\n",
            "118/118 [==============================] - 1s 5ms/step - loss: 1.5598 - accuracy: 0.5790\n",
            "Epoch 58/60\n",
            "118/118 [==============================] - 1s 5ms/step - loss: 1.5424 - accuracy: 0.5816\n",
            "Epoch 59/60\n",
            "118/118 [==============================] - 1s 5ms/step - loss: 1.5254 - accuracy: 0.5849\n",
            "Epoch 60/60\n",
            "118/118 [==============================] - 1s 4ms/step - loss: 1.5086 - accuracy: 0.5875\n"
          ]
        },
        {
          "data": {
            "text/plain": [
              "<keras.callbacks.History at 0x7f09bb6b8940>"
            ]
          },
          "execution_count": 25,
          "metadata": {},
          "output_type": "execute_result"
        }
      ],
      "source": [
        "network.fit(train_images, train_labels, epochs=60, batch_size=512)"
      ]
    },
    {
      "cell_type": "markdown",
      "metadata": {
        "id": "heVasO26zp6V"
      },
      "source": [
        "- Two quantities are displayed during training:\n",
        "    - The loss of the network over the training data\n",
        "    - The accuracy of the network over the training data\n",
        "    \n",
        "- We quickly reach an accuracy of **$0.9886 (98.86\\%)$** on the training data."
      ]
    },
    {
      "cell_type": "markdown",
      "metadata": {
        "id": "0eDaNGAYzp6X"
      },
      "source": [
        "- Now let's check that the model performs well on the test set, too:"
      ]
    },
    {
      "cell_type": "code",
      "execution_count": null,
      "metadata": {
        "colab": {
          "background_save": true,
          "base_uri": "https://localhost:8080/"
        },
        "id": "2-UhmyTWzp6Y",
        "outputId": "729532ee-478a-48e1-f3fb-03798ae23fb9"
      },
      "outputs": [
        {
          "name": "stdout",
          "output_type": "stream",
          "text": [
            "313/313 [==============================] - 1s 3ms/step - loss: 1.4930 - accuracy: 0.5905\n"
          ]
        }
      ],
      "source": [
        "test_loss, test_acc = network.evaluate(test_images, test_labels)"
      ]
    },
    {
      "cell_type": "code",
      "execution_count": null,
      "metadata": {
        "colab": {
          "background_save": true,
          "base_uri": "https://localhost:8080/"
        },
        "id": "omz-cZXLzp6d",
        "outputId": "7874cbe0-8dfa-43a3-f40b-5428d1b04a30"
      },
      "outputs": [
        {
          "name": "stdout",
          "output_type": "stream",
          "text": [
            "Test Accuracy: 0.59050 \n"
          ]
        }
      ],
      "source": [
        "print('Test Accuracy: {:.5f} '.format(test_acc))"
      ]
    },
    {
      "cell_type": "code",
      "execution_count": null,
      "metadata": {
        "colab": {
          "background_save": true,
          "base_uri": "https://localhost:8080/"
        },
        "id": "cbIp64KFzp6g",
        "outputId": "9747d7cf-415b-486b-f865-81b52a205b2b"
      },
      "outputs": [
        {
          "data": {
            "text/plain": [
              "0.590499997138977"
            ]
          },
          "execution_count": 28,
          "metadata": {},
          "output_type": "execute_result"
        }
      ],
      "source": [
        "test_acc"
      ]
    },
    {
      "cell_type": "markdown",
      "metadata": {
        "id": "yi5jDr-0zp6k"
      },
      "source": [
        "- The test-set accuracy turns out to be $97.780\\%$--that is quite a bit lower than the training set accuracy. This gap between training and test accuracy is an example of **overfitting**:the fact that the ML models tend to perform worse on new data than on their training data."
      ]
    },
    {
      "cell_type": "code",
      "execution_count": null,
      "metadata": {
        "colab": {
          "background_save": true,
          "base_uri": "https://localhost:8080/",
          "height": 369
        },
        "id": "JOu1IQW6zp6l",
        "outputId": "0a888068-79a9-40c7-b037-5704ecb47c46"
      },
      "outputs": [
        {
          "data": {
            "image/png": "[encoded data removed]",
            "text/plain": [
              "<IPython.core.display.Image object>"
            ]
          },
          "execution_count": 29,
          "metadata": {},
          "output_type": "execute_result"
        }
      ],
      "source": [
        "from keras.utils import plot_model\n",
        "plot_model(network, to_file='model.png')"
      ]
    },
    {
      "cell_type": "code",
      "execution_count": null,
      "metadata": {
        "colab": {
          "background_save": true,
          "base_uri": "https://localhost:8080/",
          "height": 764
        },
        "id": "LVvUxpAkOQuz",
        "outputId": "ca1dba4c-9e78-4574-aad5-603579a366a1"
      },
      "outputs": [
        {
          "name": "stdout",
          "output_type": "stream",
          "text": [
            "Epoch 1/5\n",
            "79/79 [==============================] - 1s 7ms/step - loss: 1.4976 - accuracy: 0.5883 - val_loss: 1.4835 - val_accuracy: 0.5984\n",
            "Epoch 2/5\n",
            "79/79 [==============================] - 0s 5ms/step - loss: 1.4867 - accuracy: 0.5903 - val_loss: 1.4727 - val_accuracy: 0.6012\n",
            "Epoch 3/5\n",
            "79/79 [==============================] - 1s 9ms/step - loss: 1.4761 - accuracy: 0.5930 - val_loss: 1.4620 - val_accuracy: 0.6029\n",
            "Epoch 4/5\n",
            "79/79 [==============================] - 0s 6ms/step - loss: 1.4655 - accuracy: 0.5948 - val_loss: 1.4515 - val_accuracy: 0.6043\n",
            "Epoch 5/5\n",
            "79/79 [==============================] - 0s 5ms/step - loss: 1.4551 - accuracy: 0.5957 - val_loss: 1.4411 - val_accuracy: 0.6061\n",
            "dict_keys(['loss', 'accuracy', 'val_loss', 'val_accuracy'])\n"
          ]
        },
        {
          "data": {
            "image/png": "[encoded data removed]",
            "text/plain": [
              "<Figure size 432x288 with 1 Axes>"
            ]
          },
          "metadata": {},
          "output_type": "display_data"
        },
        {
          "data": {
            "image/png": "[encoded data removed]",
            "text/plain": [
              "<Figure size 432x288 with 1 Axes>"
            ]
          },
          "metadata": {},
          "output_type": "display_data"
        }
      ],
      "source": [
        "import matplotlib.pyplot as plt\n",
        "history =network.fit(train_images, train_labels, validation_split=0.33,epochs=5, batch_size=512)\n",
        "history_dict = history.history\n",
        "print(history_dict.keys())\n",
        "plt.plot(history.history['accuracy'])\n",
        "plt.plot(history.history['val_accuracy'])\n",
        "plt.title('Model accuracy')\n",
        "plt.ylabel('Accuracy')\n",
        "plt.xlabel('Epoch')\n",
        "plt.legend(['Train', 'Test'], loc='upper left')\n",
        "plt.show()\n",
        "\n",
        "# Plot training & validation loss values\n",
        "plt.plot(history.history['loss'])\n",
        "plt.plot(history.history['val_loss'])\n",
        "plt.title('Model loss')\n",
        "plt.ylabel('Loss')\n",
        "plt.xlabel('Epoch')\n",
        "plt.legend(['Train', 'Test'], loc='upper left')\n",
        "plt.show()"
      ]
    }
  ],
  "metadata": {
    "accelerator": "GPU",
    "colab": {
      "provenance": [],
      "include_colab_link": true
    },
    "kernelspec": {
      "display_name": "Python 3",
      "name": "python3"
    },
    "toc": {
      "nav_menu": {},
      "number_sections": true,
      "sideBar": true,
      "skip_h1_title": false,
      "toc_cell": true,
      "toc_position": {},
      "toc_section_display": "block",
      "toc_window_display": false
    }
  },
  "nbformat": 4,
  "nbformat_minor": 0
}