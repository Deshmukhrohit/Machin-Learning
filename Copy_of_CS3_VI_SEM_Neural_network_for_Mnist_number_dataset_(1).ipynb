{
  "nbformat": 4,
  "nbformat_minor": 0,
  "metadata": {
    "kernelspec": {
      "name": "python3",
      "display_name": "Python 3"
    },
    "toc": {
      "nav_menu": {},
      "number_sections": true,
      "sideBar": true,
      "skip_h1_title": false,
      "toc_cell": true,
      "toc_position": {},
      "toc_section_display": "block",
      "toc_window_display": false
    },
    "colab": {
      "provenance": [],
      "include_colab_link": true
    },
    "accelerator": "GPU"
  },
  "cells": [
    {
      "cell_type": "markdown",
      "metadata": {
        "id": "view-in-github",
        "colab_type": "text"
      },
      "source": [
        "<a href=\"https://colab.research.google.com/github/Deshmukhrohit/Machin-Learning/blob/main/Copy_of_CS3_VI_SEM_Neural_network_for_Mnist_number_dataset_(1).ipynb\" target=\"_parent\"><img src=\"https://colab.research.google.com/assets/colab-badge.svg\" alt=\"Open In Colab\"/></a>"
      ]
    },
    {
      "cell_type": "markdown",
      "source": [],
      "metadata": {
        "id": "aK_1LHdwQpF9"
      }
    },
    {
      "cell_type": "markdown",
      "metadata": {
        "id": "view-in-github"
      },
      "source": [
        "<a href=\"https://colab.research.google.com/github/Mustafalw02/Machine-Learning-Lab-Work/blob/master/Neural_network_for_Mnist_number_dataset.ipynb\" target=\"_parent\"><img src=\"https://colab.research.google.com/assets/colab-badge.svg\" alt=\"Open In Colab\"/></a>"
      ]
    },
    {
      "cell_type": "markdown",
      "metadata": {
        "toc": true,
        "id": "zQvT7bhRzp4e"
      },
      "source": [
        "<h1>Table of Contents<span class=\"tocSkip\"></span></h1>\n",
        "<div class=\"toc\" style=\"margin-top: 1em;\"><ul class=\"toc-item\"><li><span><a href=\"#Loading-the-MNIST-dataset-in-Keras\" data-toc-modified-id=\"Loading-the-MNIST-dataset-in-Keras-1\"><span class=\"toc-item-num\">1&nbsp;&nbsp;</span>Loading the MNIST dataset in Keras</a></span></li><li><span><a href=\"#The-network-architecture\" data-toc-modified-id=\"The-network-architecture-2\"><span class=\"toc-item-num\">2&nbsp;&nbsp;</span>The network architecture</a></span></li><li><span><a href=\"#The-compilation-step\" data-toc-modified-id=\"The-compilation-step-3\"><span class=\"toc-item-num\">3&nbsp;&nbsp;</span>The compilation step</a></span></li><li><span><a href=\"#Preparing-the-image-data\" data-toc-modified-id=\"Preparing-the-image-data-4\"><span class=\"toc-item-num\">4&nbsp;&nbsp;</span>Preparing the image data</a></span></li><li><span><a href=\"#Preparing-the-labels\" data-toc-modified-id=\"Preparing-the-labels-5\"><span class=\"toc-item-num\">5&nbsp;&nbsp;</span>Preparing the labels</a></span></li><li><span><a href=\"#Training-and-Testing\" data-toc-modified-id=\"Training-and-Testing-6\"><span class=\"toc-item-num\">6&nbsp;&nbsp;</span>Training and Testing</a></span></li></ul></div>"
      ]
    },
    {
      "cell_type": "markdown",
      "metadata": {
        "id": "GSee4zKUzp4i"
      },
      "source": [
        "# Loading the MNIST dataset in Keras"
      ]
    },
    {
      "cell_type": "code",
      "metadata": {
        "id": "6a8IveFHzp4l"
      },
      "source": [
        "\n",
        "from keras.datasets import mnist"
      ],
      "execution_count": 1,
      "outputs": []
    },
    {
      "cell_type": "code",
      "metadata": {
        "id": "LQPmnZ8xzp4v",
        "colab": {
          "base_uri": "https://localhost:8080/"
        },
        "outputId": "54012281-cd38-44ad-e1fd-69b6efdf0110"
      },
      "source": [
        "(train_images, train_labels), (test_images, test_labels) = mnist.load_data()"
      ],
      "execution_count": 2,
      "outputs": [
        {
          "output_type": "stream",
          "name": "stdout",
          "text": [
            "Downloading data from https://storage.googleapis.com/tensorflow/tf-keras-datasets/mnist.npz\n",
            "11490434/11490434 [==============================] - 0s 0us/step\n"
          ]
        }
      ]
    },
    {
      "cell_type": "markdown",
      "metadata": {
        "id": "mnZfS9HYzp4z"
      },
      "source": [
        "- The images are encoded as Numpy arrays, and the labels are an array of digits, ranging from 0 to 9."
      ]
    },
    {
      "cell_type": "code",
      "metadata": {
        "id": "VFdoffSmzp41",
        "colab": {
          "base_uri": "https://localhost:8080/"
        },
        "outputId": "0cc2ad50-4607-46bb-93c9-f2af23a42a8f"
      },
      "source": [
        "train_images.shape\n"
      ],
      "execution_count": 3,
      "outputs": [
        {
          "output_type": "execute_result",
          "data": {
            "text/plain": [
              "(60000, 28, 28)"
            ]
          },
          "metadata": {},
          "execution_count": 3
        }
      ]
    },
    {
      "cell_type": "code",
      "metadata": {
        "id": "tD65nC-vzp45",
        "colab": {
          "base_uri": "https://localhost:8080/"
        },
        "outputId": "927702d9-204c-4b52-818b-165c5b22d61c"
      },
      "source": [
        "len(train_labels)"
      ],
      "execution_count": 4,
      "outputs": [
        {
          "output_type": "execute_result",
          "data": {
            "text/plain": [
              "60000"
            ]
          },
          "metadata": {},
          "execution_count": 4
        }
      ]
    },
    {
      "cell_type": "code",
      "metadata": {
        "id": "IX9LpWNazp4_",
        "colab": {
          "base_uri": "https://localhost:8080/"
        },
        "outputId": "c37b903a-1e44-455e-cc28-e5397a68e9ae"
      },
      "source": [
        "train_labels"
      ],
      "execution_count": 5,
      "outputs": [
        {
          "output_type": "execute_result",
          "data": {
            "text/plain": [
              "array([5, 0, 4, ..., 5, 6, 8], dtype=uint8)"
            ]
          },
          "metadata": {},
          "execution_count": 5
        }
      ]
    },
    {
      "cell_type": "code",
      "metadata": {
        "id": "SG0L5p4Dzp5D",
        "colab": {
          "base_uri": "https://localhost:8080/"
        },
        "outputId": "c13457dc-3664-4b21-e24c-baabcc3dd0f0"
      },
      "source": [
        "test_images.shape"
      ],
      "execution_count": 6,
      "outputs": [
        {
          "output_type": "execute_result",
          "data": {
            "text/plain": [
              "(10000, 28, 28)"
            ]
          },
          "metadata": {},
          "execution_count": 6
        }
      ]
    },
    {
      "cell_type": "code",
      "metadata": {
        "id": "MimOH_Xnzp5I",
        "colab": {
          "base_uri": "https://localhost:8080/"
        },
        "outputId": "b167eb49-28dc-4239-afaf-27bf6975d55c"
      },
      "source": [
        "len(test_labels)"
      ],
      "execution_count": 7,
      "outputs": [
        {
          "output_type": "execute_result",
          "data": {
            "text/plain": [
              "10000"
            ]
          },
          "metadata": {},
          "execution_count": 7
        }
      ]
    },
    {
      "cell_type": "code",
      "metadata": {
        "id": "8EHR0v0Bzp5M",
        "colab": {
          "base_uri": "https://localhost:8080/"
        },
        "outputId": "5ddeb111-c289-48f8-f5fc-528b9cf0e400"
      },
      "source": [
        "test_labels"
      ],
      "execution_count": 8,
      "outputs": [
        {
          "output_type": "execute_result",
          "data": {
            "text/plain": [
              "array([7, 2, 1, ..., 4, 5, 6], dtype=uint8)"
            ]
          },
          "metadata": {},
          "execution_count": 8
        }
      ]
    },
    {
      "cell_type": "markdown",
      "metadata": {
        "id": "s0Tp6nDRzp5R"
      },
      "source": [
        "Let's build the network"
      ]
    },
    {
      "cell_type": "markdown",
      "metadata": {
        "id": "WxbJXg2Czp5T"
      },
      "source": [
        "# The network architecture"
      ]
    },
    {
      "cell_type": "markdown",
      "metadata": {
        "id": "kGCxNrDdzp5U"
      },
      "source": [
        "- The core building block of neural networks is the **layer**, a data-processing module that you can think of as a filter for data.\n",
        "    - Some data goes in, and it comes out in a more useful form.\n",
        "    - Layers extract **representations** (hopefully, meaningful for the data problem at hand) out of the data fed into them.\n",
        "    \n",
        "- Most of deep learning consists of chaining together simple layers that will implement a form of progressive **data distillation**.\n",
        "- A deep learning model is like a sieve for data-processing, made of a succession of increasingly refined data filters--**the layers**."
      ]
    },
    {
      "cell_type": "code",
      "metadata": {
        "id": "uyUqGjPTzp5V"
      },
      "source": [
        "from keras import models\n",
        "from keras import layers"
      ],
      "execution_count": 9,
      "outputs": []
    },
    {
      "cell_type": "code",
      "metadata": {
        "id": "NEVk0S9_zp5a",
        "colab": {
          "base_uri": "https://localhost:8080/"
        },
        "outputId": "e89a70b8-f471-4191-b433-db6a4784f909"
      },
      "source": [
        "network = models.Sequential()\n",
        "# Dense(32) is a fully-connected layer with 32 hidden units.\n",
        "# in the first layer, you must specify the expected input data shape :\n",
        "# here, 28 X 28=784 -dimensional vectors.\n",
        "network.add(layers.Dense(32, activation='sigmoid', input_shape=(28 * 28, )))\n",
        "network.add(layers.Dense(8, activation='sigmoid'))\n",
        "network.add(layers.Dense(10, activation='softmax'))\n",
        "network.summary()"
      ],
      "execution_count": 10,
      "outputs": [
        {
          "output_type": "stream",
          "name": "stdout",
          "text": [
            "Model: \"sequential\"\n",
            "_________________________________________________________________\n",
            " Layer (type)                Output Shape              Param #   \n",
            "=================================================================\n",
            " dense (Dense)               (None, 32)                25120     \n",
            "                                                                 \n",
            " dense_1 (Dense)             (None, 8)                 264       \n",
            "                                                                 \n",
            " dense_2 (Dense)             (None, 10)                90        \n",
            "                                                                 \n",
            "=================================================================\n",
            "Total params: 25,474\n",
            "Trainable params: 25,474\n",
            "Non-trainable params: 0\n",
            "_________________________________________________________________\n"
          ]
        }
      ]
    },
    {
      "cell_type": "code",
      "source": [
        "from google.colab import drive\n",
        "drive.mount('/content/drive')"
      ],
      "metadata": {
        "id": "KJSFxZe_e0vC",
        "colab": {
          "base_uri": "https://localhost:8080/"
        },
        "outputId": "624d95dd-0a60-4ed0-d726-1a53e1303a5c"
      },
      "execution_count": 11,
      "outputs": [
        {
          "output_type": "stream",
          "name": "stdout",
          "text": [
            "Mounted at /content/drive\n"
          ]
        }
      ]
    },
    {
      "cell_type": "markdown",
      "metadata": {
        "id": "Af2c2tvKzp5f"
      },
      "source": [
        "- Our network consists of a sequence of two *Dense* layers, which are densely connected (also called *fully connected*) neural layers.\n",
        "- The second (and last) layer is a **10-way** *softmax* layer, which means it will return an array of **10** probability scores. Each score will be the probability that the current digit image belongs to one of our 10 digit classes. "
      ]
    },
    {
      "cell_type": "markdown",
      "metadata": {
        "id": "NHbqJ-rWzp5g"
      },
      "source": [
        "# The compilation step"
      ]
    },
    {
      "cell_type": "markdown",
      "metadata": {
        "id": "1w0ne5wYzp5h"
      },
      "source": [
        "- To make the network ready for training, we need to pick three more things, as part of the **compilation** step:\n",
        " - **A loss function**-- How the network will be able to measure its performance on the training data, and thus how it will be able to steer itself in the right direction.\n",
        " - **An optimizer**--The mechanism through which the network will update itself based on the data it sees and its loss function.\n",
        " - **Metrics to monitor during training and testing**--Here, we will only care about accuracy (the fraction of the images that were correctly classified)."
      ]
    },
    {
      "cell_type": "code",
      "metadata": {
        "id": "uvSO-q9Ozp5i"
      },
      "source": [
        "network.compile(optimizer='sgd',\n",
        "                loss='categorical_crossentropy',\n",
        "                metrics=['accuracy'])\n",
        "    "
      ],
      "execution_count": 12,
      "outputs": []
    },
    {
      "cell_type": "markdown",
      "metadata": {
        "id": "fLHJqTLXzp5o"
      },
      "source": [
        "# Preparing the image data"
      ]
    },
    {
      "cell_type": "markdown",
      "metadata": {
        "id": "ajWKVl1-zp5q"
      },
      "source": [
        "Before training, we will preprocess the data by reshaping it into the shape the network expects and scaling it so that all values are in the $[0-1]$ interval."
      ]
    },
    {
      "cell_type": "code",
      "metadata": {
        "id": "4vMdz75Wzp5s"
      },
      "source": [
        "train_images = train_images.reshape((60000, 28 * 28))\n",
        "train_images = train_images.astype('float32') / 255."
      ],
      "execution_count": 13,
      "outputs": []
    },
    {
      "cell_type": "code",
      "metadata": {
        "id": "4icW7vDgzp5w"
      },
      "source": [
        "test_images = test_images.reshape((10000, 28 * 28))\n",
        "test_images = test_images.astype('float32') / 255."
      ],
      "execution_count": 14,
      "outputs": []
    },
    {
      "cell_type": "markdown",
      "metadata": {
        "id": "0SHD8Vvhzp5z"
      },
      "source": [
        "# Preparing the labels"
      ]
    },
    {
      "cell_type": "markdown",
      "metadata": {
        "id": "JA1YmuF1zp51"
      },
      "source": [
        "We also need to categorically encode the labels."
      ]
    },
    {
      "cell_type": "code",
      "metadata": {
        "id": "Bh42ABtgzp58"
      },
      "source": [
        "from keras.utils import to_categorical"
      ],
      "execution_count": 15,
      "outputs": []
    },
    {
      "cell_type": "code",
      "metadata": {
        "id": "3eCqlapJzp6A",
        "colab": {
          "base_uri": "https://localhost:8080/"
        },
        "outputId": "50f638dc-c51d-4b30-d241-2ec67fd21bb6"
      },
      "source": [
        "train_labels = to_categorical(train_labels)\n",
        "train_labels"
      ],
      "execution_count": 16,
      "outputs": [
        {
          "output_type": "execute_result",
          "data": {
            "text/plain": [
              "array([[0., 0., 0., ..., 0., 0., 0.],\n",
              "       [1., 0., 0., ..., 0., 0., 0.],\n",
              "       [0., 0., 0., ..., 0., 0., 0.],\n",
              "       ...,\n",
              "       [0., 0., 0., ..., 0., 0., 0.],\n",
              "       [0., 0., 0., ..., 0., 0., 0.],\n",
              "       [0., 0., 0., ..., 0., 1., 0.]], dtype=float32)"
            ]
          },
          "metadata": {},
          "execution_count": 16
        }
      ]
    },
    {
      "cell_type": "code",
      "metadata": {
        "id": "wWXDQKNBzp6E",
        "colab": {
          "base_uri": "https://localhost:8080/"
        },
        "outputId": "3c78868f-9913-4718-aa1d-bd422a778eb0"
      },
      "source": [
        "test_labels = to_categorical(test_labels)\n",
        "test_labels"
      ],
      "execution_count": 17,
      "outputs": [
        {
          "output_type": "execute_result",
          "data": {
            "text/plain": [
              "array([[0., 0., 0., ..., 1., 0., 0.],\n",
              "       [0., 0., 1., ..., 0., 0., 0.],\n",
              "       [0., 1., 0., ..., 0., 0., 0.],\n",
              "       ...,\n",
              "       [0., 0., 0., ..., 0., 0., 0.],\n",
              "       [0., 0., 0., ..., 0., 0., 0.],\n",
              "       [0., 0., 0., ..., 0., 0., 0.]], dtype=float32)"
            ]
          },
          "metadata": {},
          "execution_count": 17
        }
      ]
    },
    {
      "cell_type": "markdown",
      "metadata": {
        "id": "csJ7yQVxzp6I"
      },
      "source": [
        "# Training and Testing"
      ]
    },
    {
      "cell_type": "markdown",
      "metadata": {
        "id": "P-KLV-VIzp6K"
      },
      "source": [
        "We are now ready to train the network, which in Keras is done via a call to the network's fit method--we fit the model to its training data:"
      ]
    },
    {
      "cell_type": "code",
      "metadata": {
        "id": "sGWa7zXYzp6O",
        "colab": {
          "base_uri": "https://localhost:8080/"
        },
        "outputId": "dab39a46-2e3a-4df5-b047-f462a1922551"
      },
      "source": [
        "network.fit(train_images, train_labels, epochs=250, batch_size=512)"
      ],
      "execution_count": 19,
      "outputs": [
        {
          "output_type": "stream",
          "name": "stdout",
          "text": [
            "Epoch 1/250\n",
            "118/118 [==============================] - 1s 5ms/step - loss: 2.2835 - accuracy: 0.1547\n",
            "Epoch 2/250\n",
            "118/118 [==============================] - 1s 5ms/step - loss: 2.2788 - accuracy: 0.2315\n",
            "Epoch 3/250\n",
            "118/118 [==============================] - 1s 5ms/step - loss: 2.2742 - accuracy: 0.2664\n",
            "Epoch 4/250\n",
            "118/118 [==============================] - 0s 4ms/step - loss: 2.2697 - accuracy: 0.2724\n",
            "Epoch 5/250\n",
            "118/118 [==============================] - 0s 3ms/step - loss: 2.2650 - accuracy: 0.2778\n",
            "Epoch 6/250\n",
            "118/118 [==============================] - 0s 3ms/step - loss: 2.2602 - accuracy: 0.2827\n",
            "Epoch 7/250\n",
            "118/118 [==============================] - 0s 3ms/step - loss: 2.2551 - accuracy: 0.2910\n",
            "Epoch 8/250\n",
            "118/118 [==============================] - 0s 3ms/step - loss: 2.2498 - accuracy: 0.3157\n",
            "Epoch 9/250\n",
            "118/118 [==============================] - 0s 3ms/step - loss: 2.2441 - accuracy: 0.3298\n",
            "Epoch 10/250\n",
            "118/118 [==============================] - 0s 3ms/step - loss: 2.2381 - accuracy: 0.3329\n",
            "Epoch 11/250\n",
            "118/118 [==============================] - 0s 3ms/step - loss: 2.2317 - accuracy: 0.3544\n",
            "Epoch 12/250\n",
            "118/118 [==============================] - 0s 3ms/step - loss: 2.2248 - accuracy: 0.3699\n",
            "Epoch 13/250\n",
            "118/118 [==============================] - 0s 3ms/step - loss: 2.2175 - accuracy: 0.3862\n",
            "Epoch 14/250\n",
            "118/118 [==============================] - 0s 4ms/step - loss: 2.2095 - accuracy: 0.3983\n",
            "Epoch 15/250\n",
            "118/118 [==============================] - 0s 3ms/step - loss: 2.2011 - accuracy: 0.4133\n",
            "Epoch 16/250\n",
            "118/118 [==============================] - 0s 3ms/step - loss: 2.1920 - accuracy: 0.4251\n",
            "Epoch 17/250\n",
            "118/118 [==============================] - 0s 3ms/step - loss: 2.1822 - accuracy: 0.4326\n",
            "Epoch 18/250\n",
            "118/118 [==============================] - 0s 3ms/step - loss: 2.1717 - accuracy: 0.4390\n",
            "Epoch 19/250\n",
            "118/118 [==============================] - 0s 4ms/step - loss: 2.1606 - accuracy: 0.4433\n",
            "Epoch 20/250\n",
            "118/118 [==============================] - 0s 3ms/step - loss: 2.1486 - accuracy: 0.4499\n",
            "Epoch 21/250\n",
            "118/118 [==============================] - 0s 3ms/step - loss: 2.1360 - accuracy: 0.4538\n",
            "Epoch 22/250\n",
            "118/118 [==============================] - 0s 3ms/step - loss: 2.1225 - accuracy: 0.4579\n",
            "Epoch 23/250\n",
            "118/118 [==============================] - 0s 3ms/step - loss: 2.1083 - accuracy: 0.4594\n",
            "Epoch 24/250\n",
            "118/118 [==============================] - 0s 4ms/step - loss: 2.0934 - accuracy: 0.4643\n",
            "Epoch 25/250\n",
            "118/118 [==============================] - 0s 3ms/step - loss: 2.0777 - accuracy: 0.4657\n",
            "Epoch 26/250\n",
            "118/118 [==============================] - 0s 4ms/step - loss: 2.0614 - accuracy: 0.4687\n",
            "Epoch 27/250\n",
            "118/118 [==============================] - 0s 4ms/step - loss: 2.0444 - accuracy: 0.4730\n",
            "Epoch 28/250\n",
            "118/118 [==============================] - 1s 5ms/step - loss: 2.0269 - accuracy: 0.4774\n",
            "Epoch 29/250\n",
            "118/118 [==============================] - 1s 5ms/step - loss: 2.0088 - accuracy: 0.4828\n",
            "Epoch 30/250\n",
            "118/118 [==============================] - 1s 5ms/step - loss: 1.9903 - accuracy: 0.4848\n",
            "Epoch 31/250\n",
            "118/118 [==============================] - 1s 5ms/step - loss: 1.9714 - accuracy: 0.4909\n",
            "Epoch 32/250\n",
            "118/118 [==============================] - 1s 5ms/step - loss: 1.9521 - accuracy: 0.4941\n",
            "Epoch 33/250\n",
            "118/118 [==============================] - 1s 5ms/step - loss: 1.9326 - accuracy: 0.4979\n",
            "Epoch 34/250\n",
            "118/118 [==============================] - 0s 3ms/step - loss: 1.9128 - accuracy: 0.5030\n",
            "Epoch 35/250\n",
            "118/118 [==============================] - 0s 4ms/step - loss: 1.8929 - accuracy: 0.5048\n",
            "Epoch 36/250\n",
            "118/118 [==============================] - 1s 5ms/step - loss: 1.8728 - accuracy: 0.5093\n",
            "Epoch 37/250\n",
            "118/118 [==============================] - 1s 5ms/step - loss: 1.8527 - accuracy: 0.5116\n",
            "Epoch 38/250\n",
            "118/118 [==============================] - 1s 5ms/step - loss: 1.8325 - accuracy: 0.5137\n",
            "Epoch 39/250\n",
            "118/118 [==============================] - 1s 5ms/step - loss: 1.8122 - accuracy: 0.5181\n",
            "Epoch 40/250\n",
            "118/118 [==============================] - 1s 5ms/step - loss: 1.7920 - accuracy: 0.5219\n",
            "Epoch 41/250\n",
            "118/118 [==============================] - 1s 5ms/step - loss: 1.7718 - accuracy: 0.5265\n",
            "Epoch 42/250\n",
            "118/118 [==============================] - 1s 5ms/step - loss: 1.7517 - accuracy: 0.5301\n",
            "Epoch 43/250\n",
            "118/118 [==============================] - 0s 3ms/step - loss: 1.7316 - accuracy: 0.5347\n",
            "Epoch 44/250\n",
            "118/118 [==============================] - 0s 4ms/step - loss: 1.7117 - accuracy: 0.5380\n",
            "Epoch 45/250\n",
            "118/118 [==============================] - 0s 3ms/step - loss: 1.6919 - accuracy: 0.5432\n",
            "Epoch 46/250\n",
            "118/118 [==============================] - 0s 4ms/step - loss: 1.6723 - accuracy: 0.5488\n",
            "Epoch 47/250\n",
            "118/118 [==============================] - 0s 3ms/step - loss: 1.6528 - accuracy: 0.5544\n",
            "Epoch 48/250\n",
            "118/118 [==============================] - 0s 3ms/step - loss: 1.6336 - accuracy: 0.5598\n",
            "Epoch 49/250\n",
            "118/118 [==============================] - 0s 4ms/step - loss: 1.6146 - accuracy: 0.5654\n",
            "Epoch 50/250\n",
            "118/118 [==============================] - 0s 3ms/step - loss: 1.5959 - accuracy: 0.5724\n",
            "Epoch 51/250\n",
            "118/118 [==============================] - 0s 4ms/step - loss: 1.5773 - accuracy: 0.5774\n",
            "Epoch 52/250\n",
            "118/118 [==============================] - 0s 3ms/step - loss: 1.5591 - accuracy: 0.5839\n",
            "Epoch 53/250\n",
            "118/118 [==============================] - 0s 3ms/step - loss: 1.5411 - accuracy: 0.5914\n",
            "Epoch 54/250\n",
            "118/118 [==============================] - 0s 4ms/step - loss: 1.5235 - accuracy: 0.5969\n",
            "Epoch 55/250\n",
            "118/118 [==============================] - 1s 5ms/step - loss: 1.5061 - accuracy: 0.6023\n",
            "Epoch 56/250\n",
            "118/118 [==============================] - 1s 5ms/step - loss: 1.4890 - accuracy: 0.6089\n",
            "Epoch 57/250\n",
            "118/118 [==============================] - 1s 5ms/step - loss: 1.4722 - accuracy: 0.6139\n",
            "Epoch 58/250\n",
            "118/118 [==============================] - 1s 5ms/step - loss: 1.4558 - accuracy: 0.6182\n",
            "Epoch 59/250\n",
            "118/118 [==============================] - 1s 5ms/step - loss: 1.4396 - accuracy: 0.6231\n",
            "Epoch 60/250\n",
            "118/118 [==============================] - 1s 5ms/step - loss: 1.4237 - accuracy: 0.6273\n",
            "Epoch 61/250\n",
            "118/118 [==============================] - 0s 4ms/step - loss: 1.4082 - accuracy: 0.6314\n",
            "Epoch 62/250\n",
            "118/118 [==============================] - 0s 3ms/step - loss: 1.3929 - accuracy: 0.6351\n",
            "Epoch 63/250\n",
            "118/118 [==============================] - 0s 3ms/step - loss: 1.3780 - accuracy: 0.6387\n",
            "Epoch 64/250\n",
            "118/118 [==============================] - 0s 4ms/step - loss: 1.3633 - accuracy: 0.6424\n",
            "Epoch 65/250\n",
            "118/118 [==============================] - 0s 4ms/step - loss: 1.3489 - accuracy: 0.6458\n",
            "Epoch 66/250\n",
            "118/118 [==============================] - 0s 4ms/step - loss: 1.3348 - accuracy: 0.6491\n",
            "Epoch 67/250\n",
            "118/118 [==============================] - 0s 4ms/step - loss: 1.3210 - accuracy: 0.6525\n",
            "Epoch 68/250\n",
            "118/118 [==============================] - 0s 4ms/step - loss: 1.3075 - accuracy: 0.6556\n",
            "Epoch 69/250\n",
            "118/118 [==============================] - 0s 3ms/step - loss: 1.2942 - accuracy: 0.6579\n",
            "Epoch 70/250\n",
            "118/118 [==============================] - 0s 4ms/step - loss: 1.2812 - accuracy: 0.6612\n",
            "Epoch 71/250\n",
            "118/118 [==============================] - 0s 4ms/step - loss: 1.2685 - accuracy: 0.6645\n",
            "Epoch 72/250\n",
            "118/118 [==============================] - 0s 4ms/step - loss: 1.2559 - accuracy: 0.6671\n",
            "Epoch 73/250\n",
            "118/118 [==============================] - 0s 4ms/step - loss: 1.2437 - accuracy: 0.6700\n",
            "Epoch 74/250\n",
            "118/118 [==============================] - 0s 3ms/step - loss: 1.2316 - accuracy: 0.6726\n",
            "Epoch 75/250\n",
            "118/118 [==============================] - 0s 4ms/step - loss: 1.2198 - accuracy: 0.6751\n",
            "Epoch 76/250\n",
            "118/118 [==============================] - 0s 3ms/step - loss: 1.2082 - accuracy: 0.6776\n",
            "Epoch 77/250\n",
            "118/118 [==============================] - 0s 4ms/step - loss: 1.1968 - accuracy: 0.6805\n",
            "Epoch 78/250\n",
            "118/118 [==============================] - 0s 4ms/step - loss: 1.1856 - accuracy: 0.6830\n",
            "Epoch 79/250\n",
            "118/118 [==============================] - 0s 4ms/step - loss: 1.1746 - accuracy: 0.6863\n",
            "Epoch 80/250\n",
            "118/118 [==============================] - 1s 5ms/step - loss: 1.1637 - accuracy: 0.6885\n",
            "Epoch 81/250\n",
            "118/118 [==============================] - 1s 5ms/step - loss: 1.1531 - accuracy: 0.6914\n",
            "Epoch 82/250\n",
            "118/118 [==============================] - 0s 4ms/step - loss: 1.1426 - accuracy: 0.6939\n",
            "Epoch 83/250\n",
            "118/118 [==============================] - 1s 5ms/step - loss: 1.1323 - accuracy: 0.6966\n",
            "Epoch 84/250\n",
            "118/118 [==============================] - 1s 5ms/step - loss: 1.1222 - accuracy: 0.6992\n",
            "Epoch 85/250\n",
            "118/118 [==============================] - 1s 5ms/step - loss: 1.1122 - accuracy: 0.7028\n",
            "Epoch 86/250\n",
            "118/118 [==============================] - 1s 5ms/step - loss: 1.1023 - accuracy: 0.7065\n",
            "Epoch 87/250\n",
            "118/118 [==============================] - 1s 5ms/step - loss: 1.0926 - accuracy: 0.7085\n",
            "Epoch 88/250\n",
            "118/118 [==============================] - 1s 5ms/step - loss: 1.0831 - accuracy: 0.7122\n",
            "Epoch 89/250\n",
            "118/118 [==============================] - 1s 4ms/step - loss: 1.0736 - accuracy: 0.7164\n",
            "Epoch 90/250\n",
            "118/118 [==============================] - 0s 3ms/step - loss: 1.0643 - accuracy: 0.7192\n",
            "Epoch 91/250\n",
            "118/118 [==============================] - 0s 4ms/step - loss: 1.0551 - accuracy: 0.7230\n",
            "Epoch 92/250\n",
            "118/118 [==============================] - 0s 3ms/step - loss: 1.0460 - accuracy: 0.7257\n",
            "Epoch 93/250\n",
            "118/118 [==============================] - 0s 3ms/step - loss: 1.0371 - accuracy: 0.7283\n",
            "Epoch 94/250\n",
            "118/118 [==============================] - 0s 3ms/step - loss: 1.0282 - accuracy: 0.7314\n",
            "Epoch 95/250\n",
            "118/118 [==============================] - 0s 4ms/step - loss: 1.0195 - accuracy: 0.7349\n",
            "Epoch 96/250\n",
            "118/118 [==============================] - 0s 3ms/step - loss: 1.0109 - accuracy: 0.7382\n",
            "Epoch 97/250\n",
            "118/118 [==============================] - 0s 3ms/step - loss: 1.0023 - accuracy: 0.7411\n",
            "Epoch 98/250\n",
            "118/118 [==============================] - 0s 4ms/step - loss: 0.9939 - accuracy: 0.7445\n",
            "Epoch 99/250\n",
            "118/118 [==============================] - 0s 3ms/step - loss: 0.9855 - accuracy: 0.7470\n",
            "Epoch 100/250\n",
            "118/118 [==============================] - 1s 5ms/step - loss: 0.9773 - accuracy: 0.7505\n",
            "Epoch 101/250\n",
            "118/118 [==============================] - 0s 4ms/step - loss: 0.9692 - accuracy: 0.7539\n",
            "Epoch 102/250\n",
            "118/118 [==============================] - 0s 3ms/step - loss: 0.9611 - accuracy: 0.7567\n",
            "Epoch 103/250\n",
            "118/118 [==============================] - 0s 4ms/step - loss: 0.9531 - accuracy: 0.7598\n",
            "Epoch 104/250\n",
            "118/118 [==============================] - 0s 4ms/step - loss: 0.9452 - accuracy: 0.7625\n",
            "Epoch 105/250\n",
            "118/118 [==============================] - 0s 4ms/step - loss: 0.9374 - accuracy: 0.7653\n",
            "Epoch 106/250\n",
            "118/118 [==============================] - 0s 3ms/step - loss: 0.9297 - accuracy: 0.7688\n",
            "Epoch 107/250\n",
            "118/118 [==============================] - 0s 4ms/step - loss: 0.9221 - accuracy: 0.7716\n",
            "Epoch 108/250\n",
            "118/118 [==============================] - 0s 3ms/step - loss: 0.9146 - accuracy: 0.7748\n",
            "Epoch 109/250\n",
            "118/118 [==============================] - 0s 3ms/step - loss: 0.9071 - accuracy: 0.7776\n",
            "Epoch 110/250\n",
            "118/118 [==============================] - 0s 4ms/step - loss: 0.8997 - accuracy: 0.7801\n",
            "Epoch 111/250\n",
            "118/118 [==============================] - 0s 3ms/step - loss: 0.8925 - accuracy: 0.7829\n",
            "Epoch 112/250\n",
            "118/118 [==============================] - 0s 4ms/step - loss: 0.8853 - accuracy: 0.7860\n",
            "Epoch 113/250\n",
            "118/118 [==============================] - 1s 5ms/step - loss: 0.8782 - accuracy: 0.7892\n",
            "Epoch 114/250\n",
            "118/118 [==============================] - 1s 5ms/step - loss: 0.8711 - accuracy: 0.7911\n",
            "Epoch 115/250\n",
            "118/118 [==============================] - 1s 5ms/step - loss: 0.8642 - accuracy: 0.7934\n",
            "Epoch 116/250\n",
            "118/118 [==============================] - 1s 5ms/step - loss: 0.8574 - accuracy: 0.7956\n",
            "Epoch 117/250\n",
            "118/118 [==============================] - 1s 4ms/step - loss: 0.8506 - accuracy: 0.7977\n",
            "Epoch 118/250\n",
            "118/118 [==============================] - 1s 5ms/step - loss: 0.8439 - accuracy: 0.8001\n",
            "Epoch 119/250\n",
            "118/118 [==============================] - 0s 4ms/step - loss: 0.8373 - accuracy: 0.8025\n",
            "Epoch 120/250\n",
            "118/118 [==============================] - 0s 4ms/step - loss: 0.8308 - accuracy: 0.8049\n",
            "Epoch 121/250\n",
            "118/118 [==============================] - 0s 3ms/step - loss: 0.8244 - accuracy: 0.8070\n",
            "Epoch 122/250\n",
            "118/118 [==============================] - 0s 4ms/step - loss: 0.8181 - accuracy: 0.8090\n",
            "Epoch 123/250\n",
            "118/118 [==============================] - 0s 3ms/step - loss: 0.8118 - accuracy: 0.8107\n",
            "Epoch 124/250\n",
            "118/118 [==============================] - 0s 4ms/step - loss: 0.8057 - accuracy: 0.8124\n",
            "Epoch 125/250\n",
            "118/118 [==============================] - 0s 4ms/step - loss: 0.7996 - accuracy: 0.8140\n",
            "Epoch 126/250\n",
            "118/118 [==============================] - 0s 3ms/step - loss: 0.7936 - accuracy: 0.8158\n",
            "Epoch 127/250\n",
            "118/118 [==============================] - 0s 4ms/step - loss: 0.7877 - accuracy: 0.8176\n",
            "Epoch 128/250\n",
            "118/118 [==============================] - 0s 3ms/step - loss: 0.7819 - accuracy: 0.8191\n",
            "Epoch 129/250\n",
            "118/118 [==============================] - 0s 4ms/step - loss: 0.7761 - accuracy: 0.8209\n",
            "Epoch 130/250\n",
            "118/118 [==============================] - 0s 4ms/step - loss: 0.7705 - accuracy: 0.8227\n",
            "Epoch 131/250\n",
            "118/118 [==============================] - 0s 4ms/step - loss: 0.7649 - accuracy: 0.8242\n",
            "Epoch 132/250\n",
            "118/118 [==============================] - 0s 4ms/step - loss: 0.7594 - accuracy: 0.8254\n",
            "Epoch 133/250\n",
            "118/118 [==============================] - 0s 3ms/step - loss: 0.7540 - accuracy: 0.8274\n",
            "Epoch 134/250\n",
            "118/118 [==============================] - 0s 4ms/step - loss: 0.7487 - accuracy: 0.8290\n",
            "Epoch 135/250\n",
            "118/118 [==============================] - 0s 3ms/step - loss: 0.7434 - accuracy: 0.8304\n",
            "Epoch 136/250\n",
            "118/118 [==============================] - 0s 3ms/step - loss: 0.7382 - accuracy: 0.8316\n",
            "Epoch 137/250\n",
            "118/118 [==============================] - 0s 3ms/step - loss: 0.7331 - accuracy: 0.8330\n",
            "Epoch 138/250\n",
            "118/118 [==============================] - 0s 4ms/step - loss: 0.7281 - accuracy: 0.8340\n",
            "Epoch 139/250\n",
            "118/118 [==============================] - 0s 4ms/step - loss: 0.7232 - accuracy: 0.8353\n",
            "Epoch 140/250\n",
            "118/118 [==============================] - 0s 4ms/step - loss: 0.7183 - accuracy: 0.8364\n",
            "Epoch 141/250\n",
            "118/118 [==============================] - 0s 4ms/step - loss: 0.7135 - accuracy: 0.8378\n",
            "Epoch 142/250\n",
            "118/118 [==============================] - 0s 4ms/step - loss: 0.7088 - accuracy: 0.8387\n",
            "Epoch 143/250\n",
            "118/118 [==============================] - 1s 5ms/step - loss: 0.7041 - accuracy: 0.8398\n",
            "Epoch 144/250\n",
            "118/118 [==============================] - 1s 5ms/step - loss: 0.6995 - accuracy: 0.8407\n",
            "Epoch 145/250\n",
            "118/118 [==============================] - 1s 5ms/step - loss: 0.6950 - accuracy: 0.8419\n",
            "Epoch 146/250\n",
            "118/118 [==============================] - 1s 5ms/step - loss: 0.6905 - accuracy: 0.8429\n",
            "Epoch 147/250\n",
            "118/118 [==============================] - 1s 5ms/step - loss: 0.6862 - accuracy: 0.8440\n",
            "Epoch 148/250\n",
            "118/118 [==============================] - 1s 5ms/step - loss: 0.6818 - accuracy: 0.8448\n",
            "Epoch 149/250\n",
            "118/118 [==============================] - 0s 4ms/step - loss: 0.6776 - accuracy: 0.8454\n",
            "Epoch 150/250\n",
            "118/118 [==============================] - 0s 4ms/step - loss: 0.6734 - accuracy: 0.8468\n",
            "Epoch 151/250\n",
            "118/118 [==============================] - 0s 4ms/step - loss: 0.6692 - accuracy: 0.8475\n",
            "Epoch 152/250\n",
            "118/118 [==============================] - 0s 4ms/step - loss: 0.6652 - accuracy: 0.8486\n",
            "Epoch 153/250\n",
            "118/118 [==============================] - 0s 4ms/step - loss: 0.6611 - accuracy: 0.8495\n",
            "Epoch 154/250\n",
            "118/118 [==============================] - 0s 3ms/step - loss: 0.6572 - accuracy: 0.8503\n",
            "Epoch 155/250\n",
            "118/118 [==============================] - 0s 3ms/step - loss: 0.6533 - accuracy: 0.8512\n",
            "Epoch 156/250\n",
            "118/118 [==============================] - 0s 4ms/step - loss: 0.6494 - accuracy: 0.8521\n",
            "Epoch 157/250\n",
            "118/118 [==============================] - 0s 4ms/step - loss: 0.6457 - accuracy: 0.8532\n",
            "Epoch 158/250\n",
            "118/118 [==============================] - 0s 4ms/step - loss: 0.6419 - accuracy: 0.8542\n",
            "Epoch 159/250\n",
            "118/118 [==============================] - 0s 3ms/step - loss: 0.6382 - accuracy: 0.8547\n",
            "Epoch 160/250\n",
            "118/118 [==============================] - 0s 4ms/step - loss: 0.6346 - accuracy: 0.8558\n",
            "Epoch 161/250\n",
            "118/118 [==============================] - 0s 4ms/step - loss: 0.6310 - accuracy: 0.8564\n",
            "Epoch 162/250\n",
            "118/118 [==============================] - 0s 4ms/step - loss: 0.6275 - accuracy: 0.8572\n",
            "Epoch 163/250\n",
            "118/118 [==============================] - 0s 4ms/step - loss: 0.6240 - accuracy: 0.8579\n",
            "Epoch 164/250\n",
            "118/118 [==============================] - 0s 4ms/step - loss: 0.6206 - accuracy: 0.8587\n",
            "Epoch 165/250\n",
            "118/118 [==============================] - 0s 4ms/step - loss: 0.6172 - accuracy: 0.8594\n",
            "Epoch 166/250\n",
            "118/118 [==============================] - 0s 3ms/step - loss: 0.6139 - accuracy: 0.8600\n",
            "Epoch 167/250\n",
            "118/118 [==============================] - 0s 3ms/step - loss: 0.6106 - accuracy: 0.8608\n",
            "Epoch 168/250\n",
            "118/118 [==============================] - 0s 4ms/step - loss: 0.6074 - accuracy: 0.8617\n",
            "Epoch 169/250\n",
            "118/118 [==============================] - 0s 3ms/step - loss: 0.6042 - accuracy: 0.8626\n",
            "Epoch 170/250\n",
            "118/118 [==============================] - 0s 4ms/step - loss: 0.6010 - accuracy: 0.8631\n",
            "Epoch 171/250\n",
            "118/118 [==============================] - 0s 4ms/step - loss: 0.5979 - accuracy: 0.8638\n",
            "Epoch 172/250\n",
            "118/118 [==============================] - 1s 5ms/step - loss: 0.5949 - accuracy: 0.8644\n",
            "Epoch 173/250\n",
            "118/118 [==============================] - 1s 5ms/step - loss: 0.5918 - accuracy: 0.8649\n",
            "Epoch 174/250\n",
            "118/118 [==============================] - 1s 5ms/step - loss: 0.5888 - accuracy: 0.8656\n",
            "Epoch 175/250\n",
            "118/118 [==============================] - 1s 5ms/step - loss: 0.5859 - accuracy: 0.8662\n",
            "Epoch 176/250\n",
            "118/118 [==============================] - 1s 5ms/step - loss: 0.5830 - accuracy: 0.8670\n",
            "Epoch 177/250\n",
            "118/118 [==============================] - 1s 5ms/step - loss: 0.5801 - accuracy: 0.8674\n",
            "Epoch 178/250\n",
            "118/118 [==============================] - 0s 4ms/step - loss: 0.5773 - accuracy: 0.8681\n",
            "Epoch 179/250\n",
            "118/118 [==============================] - 0s 4ms/step - loss: 0.5745 - accuracy: 0.8684\n",
            "Epoch 180/250\n",
            "118/118 [==============================] - 0s 4ms/step - loss: 0.5717 - accuracy: 0.8690\n",
            "Epoch 181/250\n",
            "118/118 [==============================] - 0s 3ms/step - loss: 0.5690 - accuracy: 0.8693\n",
            "Epoch 182/250\n",
            "118/118 [==============================] - 0s 4ms/step - loss: 0.5663 - accuracy: 0.8700\n",
            "Epoch 183/250\n",
            "118/118 [==============================] - 0s 4ms/step - loss: 0.5637 - accuracy: 0.8704\n",
            "Epoch 184/250\n",
            "118/118 [==============================] - 0s 3ms/step - loss: 0.5611 - accuracy: 0.8709\n",
            "Epoch 185/250\n",
            "118/118 [==============================] - 0s 4ms/step - loss: 0.5585 - accuracy: 0.8710\n",
            "Epoch 186/250\n",
            "118/118 [==============================] - 0s 4ms/step - loss: 0.5559 - accuracy: 0.8715\n",
            "Epoch 187/250\n",
            "118/118 [==============================] - 0s 4ms/step - loss: 0.5534 - accuracy: 0.8718\n",
            "Epoch 188/250\n",
            "118/118 [==============================] - 0s 3ms/step - loss: 0.5509 - accuracy: 0.8724\n",
            "Epoch 189/250\n",
            "118/118 [==============================] - 0s 4ms/step - loss: 0.5485 - accuracy: 0.8730\n",
            "Epoch 190/250\n",
            "118/118 [==============================] - 0s 3ms/step - loss: 0.5461 - accuracy: 0.8733\n",
            "Epoch 191/250\n",
            "118/118 [==============================] - 0s 3ms/step - loss: 0.5436 - accuracy: 0.8738\n",
            "Epoch 192/250\n",
            "118/118 [==============================] - 0s 4ms/step - loss: 0.5413 - accuracy: 0.8744\n",
            "Epoch 193/250\n",
            "118/118 [==============================] - 0s 4ms/step - loss: 0.5389 - accuracy: 0.8747\n",
            "Epoch 194/250\n",
            "118/118 [==============================] - 0s 4ms/step - loss: 0.5366 - accuracy: 0.8753\n",
            "Epoch 195/250\n",
            "118/118 [==============================] - 0s 4ms/step - loss: 0.5343 - accuracy: 0.8758\n",
            "Epoch 196/250\n",
            "118/118 [==============================] - 0s 4ms/step - loss: 0.5321 - accuracy: 0.8763\n",
            "Epoch 197/250\n",
            "118/118 [==============================] - 0s 3ms/step - loss: 0.5299 - accuracy: 0.8766\n",
            "Epoch 198/250\n",
            "118/118 [==============================] - 0s 3ms/step - loss: 0.5277 - accuracy: 0.8766\n",
            "Epoch 199/250\n",
            "118/118 [==============================] - 0s 4ms/step - loss: 0.5255 - accuracy: 0.8774\n",
            "Epoch 200/250\n",
            "118/118 [==============================] - 0s 3ms/step - loss: 0.5233 - accuracy: 0.8777\n",
            "Epoch 201/250\n",
            "118/118 [==============================] - 0s 4ms/step - loss: 0.5212 - accuracy: 0.8779\n",
            "Epoch 202/250\n",
            "118/118 [==============================] - 1s 5ms/step - loss: 0.5191 - accuracy: 0.8783\n",
            "Epoch 203/250\n",
            "118/118 [==============================] - 1s 5ms/step - loss: 0.5170 - accuracy: 0.8787\n",
            "Epoch 204/250\n",
            "118/118 [==============================] - 1s 5ms/step - loss: 0.5150 - accuracy: 0.8790\n",
            "Epoch 205/250\n",
            "118/118 [==============================] - 1s 5ms/step - loss: 0.5130 - accuracy: 0.8794\n",
            "Epoch 206/250\n",
            "118/118 [==============================] - 1s 5ms/step - loss: 0.5110 - accuracy: 0.8798\n",
            "Epoch 207/250\n",
            "118/118 [==============================] - 1s 5ms/step - loss: 0.5090 - accuracy: 0.8802\n",
            "Epoch 208/250\n",
            "118/118 [==============================] - 0s 4ms/step - loss: 0.5070 - accuracy: 0.8805\n",
            "Epoch 209/250\n",
            "118/118 [==============================] - 0s 4ms/step - loss: 0.5051 - accuracy: 0.8810\n",
            "Epoch 210/250\n",
            "118/118 [==============================] - 0s 4ms/step - loss: 0.5032 - accuracy: 0.8814\n",
            "Epoch 211/250\n",
            "118/118 [==============================] - 0s 4ms/step - loss: 0.5013 - accuracy: 0.8816\n",
            "Epoch 212/250\n",
            "118/118 [==============================] - 0s 4ms/step - loss: 0.4994 - accuracy: 0.8821\n",
            "Epoch 213/250\n",
            "118/118 [==============================] - 0s 4ms/step - loss: 0.4976 - accuracy: 0.8828\n",
            "Epoch 214/250\n",
            "118/118 [==============================] - 0s 4ms/step - loss: 0.4957 - accuracy: 0.8829\n",
            "Epoch 215/250\n",
            "118/118 [==============================] - 0s 4ms/step - loss: 0.4939 - accuracy: 0.8832\n",
            "Epoch 216/250\n",
            "118/118 [==============================] - 0s 3ms/step - loss: 0.4921 - accuracy: 0.8834\n",
            "Epoch 217/250\n",
            "118/118 [==============================] - 0s 3ms/step - loss: 0.4904 - accuracy: 0.8837\n",
            "Epoch 218/250\n",
            "118/118 [==============================] - 0s 4ms/step - loss: 0.4886 - accuracy: 0.8841\n",
            "Epoch 219/250\n",
            "118/118 [==============================] - 0s 4ms/step - loss: 0.4869 - accuracy: 0.8846\n",
            "Epoch 220/250\n",
            "118/118 [==============================] - 0s 4ms/step - loss: 0.4851 - accuracy: 0.8848\n",
            "Epoch 221/250\n",
            "118/118 [==============================] - 0s 4ms/step - loss: 0.4835 - accuracy: 0.8849\n",
            "Epoch 222/250\n",
            "118/118 [==============================] - 0s 4ms/step - loss: 0.4818 - accuracy: 0.8853\n",
            "Epoch 223/250\n",
            "118/118 [==============================] - 0s 4ms/step - loss: 0.4801 - accuracy: 0.8855\n",
            "Epoch 224/250\n",
            "118/118 [==============================] - 0s 4ms/step - loss: 0.4785 - accuracy: 0.8860\n",
            "Epoch 225/250\n",
            "118/118 [==============================] - 0s 4ms/step - loss: 0.4768 - accuracy: 0.8863\n",
            "Epoch 226/250\n",
            "118/118 [==============================] - 0s 4ms/step - loss: 0.4752 - accuracy: 0.8866\n",
            "Epoch 227/250\n",
            "118/118 [==============================] - 0s 4ms/step - loss: 0.4736 - accuracy: 0.8868\n",
            "Epoch 228/250\n",
            "118/118 [==============================] - 0s 4ms/step - loss: 0.4721 - accuracy: 0.8874\n",
            "Epoch 229/250\n",
            "118/118 [==============================] - 0s 4ms/step - loss: 0.4705 - accuracy: 0.8873\n",
            "Epoch 230/250\n",
            "118/118 [==============================] - 0s 4ms/step - loss: 0.4690 - accuracy: 0.8876\n",
            "Epoch 231/250\n",
            "118/118 [==============================] - 1s 5ms/step - loss: 0.4674 - accuracy: 0.8879\n",
            "Epoch 232/250\n",
            "118/118 [==============================] - 1s 5ms/step - loss: 0.4659 - accuracy: 0.8883\n",
            "Epoch 233/250\n",
            "118/118 [==============================] - 1s 5ms/step - loss: 0.4644 - accuracy: 0.8887\n",
            "Epoch 234/250\n",
            "118/118 [==============================] - 1s 5ms/step - loss: 0.4629 - accuracy: 0.8888\n",
            "Epoch 235/250\n",
            "118/118 [==============================] - 1s 5ms/step - loss: 0.4615 - accuracy: 0.8892\n",
            "Epoch 236/250\n",
            "118/118 [==============================] - 1s 5ms/step - loss: 0.4600 - accuracy: 0.8894\n",
            "Epoch 237/250\n",
            "118/118 [==============================] - 0s 4ms/step - loss: 0.4586 - accuracy: 0.8895\n",
            "Epoch 238/250\n",
            "118/118 [==============================] - 0s 4ms/step - loss: 0.4572 - accuracy: 0.8898\n",
            "Epoch 239/250\n",
            "118/118 [==============================] - 0s 4ms/step - loss: 0.4557 - accuracy: 0.8900\n",
            "Epoch 240/250\n",
            "118/118 [==============================] - 0s 3ms/step - loss: 0.4543 - accuracy: 0.8905\n",
            "Epoch 241/250\n",
            "118/118 [==============================] - 0s 4ms/step - loss: 0.4530 - accuracy: 0.8906\n",
            "Epoch 242/250\n",
            "118/118 [==============================] - 0s 4ms/step - loss: 0.4516 - accuracy: 0.8907\n",
            "Epoch 243/250\n",
            "118/118 [==============================] - 0s 4ms/step - loss: 0.4502 - accuracy: 0.8910\n",
            "Epoch 244/250\n",
            "118/118 [==============================] - 0s 4ms/step - loss: 0.4489 - accuracy: 0.8911\n",
            "Epoch 245/250\n",
            "118/118 [==============================] - 0s 4ms/step - loss: 0.4475 - accuracy: 0.8913\n",
            "Epoch 246/250\n",
            "118/118 [==============================] - 0s 4ms/step - loss: 0.4462 - accuracy: 0.8917\n",
            "Epoch 247/250\n",
            "118/118 [==============================] - 0s 3ms/step - loss: 0.4449 - accuracy: 0.8916\n",
            "Epoch 248/250\n",
            "118/118 [==============================] - 0s 4ms/step - loss: 0.4436 - accuracy: 0.8920\n",
            "Epoch 249/250\n",
            "118/118 [==============================] - 0s 4ms/step - loss: 0.4423 - accuracy: 0.8921\n",
            "Epoch 250/250\n",
            "118/118 [==============================] - 0s 4ms/step - loss: 0.4411 - accuracy: 0.8923\n"
          ]
        },
        {
          "output_type": "execute_result",
          "data": {
            "text/plain": [
              "<keras.callbacks.History at 0x7f44f1cf36d0>"
            ]
          },
          "metadata": {},
          "execution_count": 19
        }
      ]
    },
    {
      "cell_type": "markdown",
      "metadata": {
        "id": "heVasO26zp6V"
      },
      "source": [
        "- Two quantities are displayed during training:\n",
        "    - The loss of the network over the training data\n",
        "    - The accuracy of the network over the training data\n",
        "    \n",
        "- We quickly reach an accuracy of **$0.9886 (98.86\\%)$** on the training data."
      ]
    },
    {
      "cell_type": "markdown",
      "metadata": {
        "id": "0eDaNGAYzp6X"
      },
      "source": [
        "- Now let's check that the model performs well on the test set, too:"
      ]
    },
    {
      "cell_type": "code",
      "metadata": {
        "id": "2-UhmyTWzp6Y",
        "colab": {
          "base_uri": "https://localhost:8080/"
        },
        "outputId": "9bdc46e1-1291-4b21-ad43-e74b07e0fe52"
      },
      "source": [
        "test_loss, test_acc = network.evaluate(test_images, test_labels)"
      ],
      "execution_count": 20,
      "outputs": [
        {
          "output_type": "stream",
          "name": "stdout",
          "text": [
            "313/313 [==============================] - 1s 2ms/step - loss: 0.4336 - accuracy: 0.8924\n"
          ]
        }
      ]
    },
    {
      "cell_type": "code",
      "metadata": {
        "id": "omz-cZXLzp6d",
        "colab": {
          "base_uri": "https://localhost:8080/"
        },
        "outputId": "d59cc3dd-37b3-4eca-89fd-ecb369d29b61"
      },
      "source": [
        "print('Test Accuracy: {:.5f} '.format(test_acc))"
      ],
      "execution_count": 21,
      "outputs": [
        {
          "output_type": "stream",
          "name": "stdout",
          "text": [
            "Test Accuracy: 0.89240 \n"
          ]
        }
      ]
    },
    {
      "cell_type": "code",
      "metadata": {
        "id": "cbIp64KFzp6g",
        "colab": {
          "base_uri": "https://localhost:8080/"
        },
        "outputId": "c84df000-8b75-4780-d6c8-32a53584ef24"
      },
      "source": [
        "test_acc"
      ],
      "execution_count": 22,
      "outputs": [
        {
          "output_type": "execute_result",
          "data": {
            "text/plain": [
              "0.8924000263214111"
            ]
          },
          "metadata": {},
          "execution_count": 22
        }
      ]
    },
    {
      "cell_type": "markdown",
      "metadata": {
        "id": "yi5jDr-0zp6k"
      },
      "source": [
        "- The test-set accuracy turns out to be $97.780\\%$--that is quite a bit lower than the training set accuracy. This gap between training and test accuracy is an example of **overfitting**:the fact that the ML models tend to perform worse on new data than on their training data."
      ]
    },
    {
      "cell_type": "code",
      "metadata": {
        "id": "JOu1IQW6zp6l",
        "colab": {
          "base_uri": "https://localhost:8080/",
          "height": 369
        },
        "outputId": "4b42c528-2ee3-4cae-a0f6-b3d23dafc5cb"
      },
      "source": [
        "from keras.utils import plot_model\n",
        "plot_model(network, to_file='model.png')"
      ],
      "execution_count": 23,
      "outputs": [
        {
          "output_type": "execute_result",
          "data": {
            "image/png": "[encoded data removed]",
            "text/plain": [
              "<IPython.core.display.Image object>"
            ]
          },
          "metadata": {},
          "execution_count": 23
        }
      ]
    },
    {
      "cell_type": "code",
      "metadata": {
        "id": "LVvUxpAkOQuz",
        "colab": {
          "base_uri": "https://localhost:8080/",
          "height": 1000
        },
        "outputId": "b21de24c-77a6-4a3d-8c14-b2153ef57971"
      },
      "source": [
        "import matplotlib.pyplot as plt\n",
        "history =network.fit(train_images, train_labels, validation_split=0.33,epochs=5, batch_size=512)\n",
        "history_dict = history.history\n",
        "print(history_dict.keys())\n",
        "plt.plot(history.history['accuracy'])\n",
        "plt.plot(history.history['val_accuracy'])\n",
        "plt.title('Model accuracy')\n",
        "plt.ylabel('Accuracy')\n",
        "plt.xlabel('Epoch')\n",
        "plt.legend(['Train', 'Test'], loc='upper left')\n",
        "plt.show()\n",
        "\n",
        "# Plot training & validation loss values\n",
        "plt.plot(history.history['loss'])\n",
        "plt.plot(history.history['val_loss'])\n",
        "plt.title('Model loss')\n",
        "plt.ylabel('Loss')\n",
        "plt.xlabel('Epoch')\n",
        "plt.legend(['Train', 'Test'], loc='upper left')\n",
        "plt.show()"
      ],
      "execution_count": 24,
      "outputs": [
        {
          "output_type": "stream",
          "name": "stdout",
          "text": [
            "Epoch 1/5\n",
            "79/79 [==============================] - 1s 7ms/step - loss: 0.4435 - accuracy: 0.8921 - val_loss: 0.4326 - val_accuracy: 0.8934\n",
            "Epoch 2/5\n",
            "79/79 [==============================] - 0s 5ms/step - loss: 0.4426 - accuracy: 0.8922 - val_loss: 0.4318 - val_accuracy: 0.8935\n",
            "Epoch 3/5\n",
            "79/79 [==============================] - 0s 6ms/step - loss: 0.4417 - accuracy: 0.8924 - val_loss: 0.4311 - val_accuracy: 0.8935\n",
            "Epoch 4/5\n",
            "79/79 [==============================] - 0s 5ms/step - loss: 0.4408 - accuracy: 0.8925 - val_loss: 0.4304 - val_accuracy: 0.8938\n",
            "Epoch 5/5\n",
            "79/79 [==============================] - 0s 5ms/step - loss: 0.4400 - accuracy: 0.8926 - val_loss: 0.4296 - val_accuracy: 0.8938\n",
            "dict_keys(['loss', 'accuracy', 'val_loss', 'val_accuracy'])\n"
          ]
        },
        {
          "output_type": "display_data",
          "data": {
            "text/plain": [
              "<Figure size 640x480 with 1 Axes>"
            ],
            "image/png": "[encoded data removed]"
          },
          "metadata": {}
        },
        {
          "output_type": "display_data",
          "data": {
            "text/plain": [
              "<Figure size 640x480 with 1 Axes>"
            ],
            "image/png": "[encoded data removed]"
          },
          "metadata": {}
        }
      ]
    }
  ]
}